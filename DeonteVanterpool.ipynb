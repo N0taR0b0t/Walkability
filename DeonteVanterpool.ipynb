{
 "cells": [
  {
   "cell_type": "markdown",
   "metadata": {},
   "source": [
    "First, I want to import everything I am going to use. Geopandas is used with matplotlib in order to later graph the different neighborhoods in Pittsburgh."
   ]
  },
  {
   "cell_type": "code",
   "execution_count": 2,
   "metadata": {},
   "outputs": [],
   "source": [
    "import pandas as pd\n",
    "import numpy as np\n",
    "import matplotlib.pyplot as plt\n",
    "import geopandas\n",
    "import fpsnippets"
   ]
  },
  {
   "cell_type": "code",
   "execution_count": 3,
   "metadata": {},
   "outputs": [],
   "source": [
    "# https://data.wprdc.org/dataset/traffic-count-data-city-of-pittsburgh/resource/6dfd4f8f-cbf5-4917-a5eb-fd07f4403167\n",
    "traffic_data = pd.read_csv(\"data/TrafficCount.csv\")\n",
    "\n",
    "# https://data.wprdc.org/dataset/pittsburgh-parking-meters-and-payment-points/resource/9ed126cc-3c06-496e-bd08-b7b6b14b4109\n",
    "parking_meter_data = pd.read_csv(\"data/ParkingMeters.csv\")\n",
    "\n",
    "# https://data.wprdc.org/dataset/pgh/resource/b7156251-6036-4b68-ad2a-95566c84343e\n",
    "census_data = pd.read_csv(\"data/NeighbourhoodCensusData.csv\")\n",
    "\n",
    "# https://data.wprdc.org/dataset/neighborhoods2/resource/4af8e160-57e9-4ebf-a501-76ca1b42fc99\n",
    "geography = geopandas.read_file(\"data/GeographicData.geojson\")"
   ]
  },
  {
   "cell_type": "markdown",
   "metadata": {},
   "source": [
    "I removed some of the columns I didn't need."
   ]
  },
  {
   "cell_type": "code",
   "execution_count": 4,
   "metadata": {},
   "outputs": [
    {
     "data": {
      "text/html": [
       "<div>\n",
       "<style scoped>\n",
       "    .dataframe tbody tr th:only-of-type {\n",
       "        vertical-align: middle;\n",
       "    }\n",
       "\n",
       "    .dataframe tbody tr th {\n",
       "        vertical-align: top;\n",
       "    }\n",
       "\n",
       "    .dataframe thead th {\n",
       "        text-align: right;\n",
       "    }\n",
       "</style>\n",
       "<table border=\"1\" class=\"dataframe\">\n",
       "  <thead>\n",
       "    <tr style=\"text-align: right;\">\n",
       "      <th></th>\n",
       "      <th>_id</th>\n",
       "      <th>id</th>\n",
       "      <th>device_id</th>\n",
       "      <th>record_oid</th>\n",
       "      <th>count_start_date</th>\n",
       "      <th>count_end_date</th>\n",
       "      <th>average_daily_car_traffic</th>\n",
       "      <th>average_daily_bike_traffic</th>\n",
       "      <th>counter_number</th>\n",
       "      <th>counter_type</th>\n",
       "      <th>...</th>\n",
       "      <th>longitude</th>\n",
       "      <th>latitude</th>\n",
       "      <th>neighborhood</th>\n",
       "      <th>council_district</th>\n",
       "      <th>ward</th>\n",
       "      <th>tract</th>\n",
       "      <th>public_works_division</th>\n",
       "      <th>pli_division</th>\n",
       "      <th>police_zone</th>\n",
       "      <th>fire_zone</th>\n",
       "    </tr>\n",
       "  </thead>\n",
       "  <tbody>\n",
       "    <tr>\n",
       "      <th>0</th>\n",
       "      <td>1</td>\n",
       "      <td>1011743669</td>\n",
       "      <td>85</td>\n",
       "      <td>1.445865e+09</td>\n",
       "      <td>2019-04-18</td>\n",
       "      <td>2019-04-26</td>\n",
       "      <td>4949.0</td>\n",
       "      <td>NaN</td>\n",
       "      <td>6</td>\n",
       "      <td>StatTrak</td>\n",
       "      <td>...</td>\n",
       "      <td>-79.967772</td>\n",
       "      <td>40.455733</td>\n",
       "      <td>Polish Hill</td>\n",
       "      <td>7.0</td>\n",
       "      <td>6.0</td>\n",
       "      <td>42003060500</td>\n",
       "      <td>6.0</td>\n",
       "      <td>6.0</td>\n",
       "      <td>2.0</td>\n",
       "      <td>2-6</td>\n",
       "    </tr>\n",
       "    <tr>\n",
       "      <th>1</th>\n",
       "      <td>2</td>\n",
       "      <td>1026101993</td>\n",
       "      <td>140</td>\n",
       "      <td>1.121444e+09</td>\n",
       "      <td>2019-01-24</td>\n",
       "      <td>NaN</td>\n",
       "      <td>NaN</td>\n",
       "      <td>NaN</td>\n",
       "      <td>NaN</td>\n",
       "      <td>Intersection Study</td>\n",
       "      <td>...</td>\n",
       "      <td>-79.952249</td>\n",
       "      <td>40.466157</td>\n",
       "      <td>Central Lawrenceville</td>\n",
       "      <td>7.0</td>\n",
       "      <td>9.0</td>\n",
       "      <td>42003090200</td>\n",
       "      <td>2.0</td>\n",
       "      <td>9.0</td>\n",
       "      <td>2.0</td>\n",
       "      <td>3-6</td>\n",
       "    </tr>\n",
       "    <tr>\n",
       "      <th>2</th>\n",
       "      <td>3</td>\n",
       "      <td>1032382575</td>\n",
       "      <td>11</td>\n",
       "      <td>1.539893e+09</td>\n",
       "      <td>2018-08-28</td>\n",
       "      <td>2018-09-04</td>\n",
       "      <td>NaN</td>\n",
       "      <td>NaN</td>\n",
       "      <td>NaN</td>\n",
       "      <td>NaN</td>\n",
       "      <td>...</td>\n",
       "      <td>-80.076469</td>\n",
       "      <td>40.460717</td>\n",
       "      <td>Windgap</td>\n",
       "      <td>2.0</td>\n",
       "      <td>28.0</td>\n",
       "      <td>42003563000</td>\n",
       "      <td>5.0</td>\n",
       "      <td>28.0</td>\n",
       "      <td>6.0</td>\n",
       "      <td>1-16</td>\n",
       "    </tr>\n",
       "    <tr>\n",
       "      <th>3</th>\n",
       "      <td>4</td>\n",
       "      <td>103627606</td>\n",
       "      <td>9</td>\n",
       "      <td>7.341951e+08</td>\n",
       "      <td>2018-07-17</td>\n",
       "      <td>2018-08-01</td>\n",
       "      <td>2741.0</td>\n",
       "      <td>NaN</td>\n",
       "      <td>NaN</td>\n",
       "      <td>StatTrak</td>\n",
       "      <td>...</td>\n",
       "      <td>-79.914335</td>\n",
       "      <td>40.437379</td>\n",
       "      <td>Squirrel Hill South</td>\n",
       "      <td>5.0</td>\n",
       "      <td>14.0</td>\n",
       "      <td>42003140800</td>\n",
       "      <td>3.0</td>\n",
       "      <td>14.0</td>\n",
       "      <td>4.0</td>\n",
       "      <td>2-18</td>\n",
       "    </tr>\n",
       "    <tr>\n",
       "      <th>4</th>\n",
       "      <td>5</td>\n",
       "      <td>1039546167</td>\n",
       "      <td>144</td>\n",
       "      <td>NaN</td>\n",
       "      <td>NaN</td>\n",
       "      <td>NaN</td>\n",
       "      <td>NaN</td>\n",
       "      <td>NaN</td>\n",
       "      <td>NaN</td>\n",
       "      <td>NaN</td>\n",
       "      <td>...</td>\n",
       "      <td>-80.019211</td>\n",
       "      <td>40.490794</td>\n",
       "      <td>Perry North</td>\n",
       "      <td>1.0</td>\n",
       "      <td>26.0</td>\n",
       "      <td>42003260200</td>\n",
       "      <td>1.0</td>\n",
       "      <td>26.0</td>\n",
       "      <td>1.0</td>\n",
       "      <td>1-15</td>\n",
       "    </tr>\n",
       "  </tbody>\n",
       "</table>\n",
       "<p>5 rows × 26 columns</p>\n",
       "</div>"
      ],
      "text/plain": [
       "   _id          id  device_id    record_oid count_start_date count_end_date  \\\n",
       "0    1  1011743669         85  1.445865e+09       2019-04-18     2019-04-26   \n",
       "1    2  1026101993        140  1.121444e+09       2019-01-24            NaN   \n",
       "2    3  1032382575         11  1.539893e+09       2018-08-28     2018-09-04   \n",
       "3    4   103627606          9  7.341951e+08       2018-07-17     2018-08-01   \n",
       "4    5  1039546167        144           NaN              NaN            NaN   \n",
       "\n",
       "   average_daily_car_traffic  average_daily_bike_traffic counter_number  \\\n",
       "0                     4949.0                         NaN              6   \n",
       "1                        NaN                         NaN            NaN   \n",
       "2                        NaN                         NaN            NaN   \n",
       "3                     2741.0                         NaN            NaN   \n",
       "4                        NaN                         NaN            NaN   \n",
       "\n",
       "         counter_type  ...  longitude   latitude           neighborhood  \\\n",
       "0            StatTrak  ... -79.967772  40.455733            Polish Hill   \n",
       "1  Intersection Study  ... -79.952249  40.466157  Central Lawrenceville   \n",
       "2                 NaN  ... -80.076469  40.460717                Windgap   \n",
       "3            StatTrak  ... -79.914335  40.437379    Squirrel Hill South   \n",
       "4                 NaN  ... -80.019211  40.490794            Perry North   \n",
       "\n",
       "   council_district  ward        tract  public_works_division  pli_division  \\\n",
       "0               7.0   6.0  42003060500                    6.0           6.0   \n",
       "1               7.0   9.0  42003090200                    2.0           9.0   \n",
       "2               2.0  28.0  42003563000                    5.0          28.0   \n",
       "3               5.0  14.0  42003140800                    3.0          14.0   \n",
       "4               1.0  26.0  42003260200                    1.0          26.0   \n",
       "\n",
       "  police_zone  fire_zone  \n",
       "0         2.0        2-6  \n",
       "1         2.0        3-6  \n",
       "2         6.0       1-16  \n",
       "3         4.0       2-18  \n",
       "4         1.0       1-15  \n",
       "\n",
       "[5 rows x 26 columns]"
      ]
     },
     "execution_count": 4,
     "metadata": {},
     "output_type": "execute_result"
    }
   ],
   "source": [
    "traffic_data.head()"
   ]
  },
  {
   "cell_type": "code",
   "execution_count": 5,
   "metadata": {},
   "outputs": [
    {
     "data": {
      "text/html": [
       "<div>\n",
       "<style scoped>\n",
       "    .dataframe tbody tr th:only-of-type {\n",
       "        vertical-align: middle;\n",
       "    }\n",
       "\n",
       "    .dataframe tbody tr th {\n",
       "        vertical-align: top;\n",
       "    }\n",
       "\n",
       "    .dataframe thead th {\n",
       "        text-align: right;\n",
       "    }\n",
       "</style>\n",
       "<table border=\"1\" class=\"dataframe\">\n",
       "  <thead>\n",
       "    <tr style=\"text-align: right;\">\n",
       "      <th></th>\n",
       "      <th>average_daily_car_traffic</th>\n",
       "      <th>average_daily_bike_traffic</th>\n",
       "      <th>percent_over_limit</th>\n",
       "      <th>neighborhood</th>\n",
       "    </tr>\n",
       "  </thead>\n",
       "  <tbody>\n",
       "    <tr>\n",
       "      <th>0</th>\n",
       "      <td>4949.0</td>\n",
       "      <td>NaN</td>\n",
       "      <td>77.0</td>\n",
       "      <td>Polish Hill</td>\n",
       "    </tr>\n",
       "    <tr>\n",
       "      <th>1</th>\n",
       "      <td>NaN</td>\n",
       "      <td>NaN</td>\n",
       "      <td>NaN</td>\n",
       "      <td>Central Lawrenceville</td>\n",
       "    </tr>\n",
       "    <tr>\n",
       "      <th>2</th>\n",
       "      <td>NaN</td>\n",
       "      <td>NaN</td>\n",
       "      <td>28.0</td>\n",
       "      <td>Windgap</td>\n",
       "    </tr>\n",
       "    <tr>\n",
       "      <th>3</th>\n",
       "      <td>2741.0</td>\n",
       "      <td>NaN</td>\n",
       "      <td>70.0</td>\n",
       "      <td>Squirrel Hill South</td>\n",
       "    </tr>\n",
       "    <tr>\n",
       "      <th>4</th>\n",
       "      <td>NaN</td>\n",
       "      <td>NaN</td>\n",
       "      <td>NaN</td>\n",
       "      <td>Perry North</td>\n",
       "    </tr>\n",
       "  </tbody>\n",
       "</table>\n",
       "</div>"
      ],
      "text/plain": [
       "   average_daily_car_traffic  average_daily_bike_traffic  percent_over_limit  \\\n",
       "0                     4949.0                         NaN                77.0   \n",
       "1                        NaN                         NaN                 NaN   \n",
       "2                        NaN                         NaN                28.0   \n",
       "3                     2741.0                         NaN                70.0   \n",
       "4                        NaN                         NaN                 NaN   \n",
       "\n",
       "            neighborhood  \n",
       "0            Polish Hill  \n",
       "1  Central Lawrenceville  \n",
       "2                Windgap  \n",
       "3    Squirrel Hill South  \n",
       "4            Perry North  "
      ]
     },
     "execution_count": 5,
     "metadata": {},
     "output_type": "execute_result"
    }
   ],
   "source": [
    "traffic_data = traffic_data[[\"average_daily_car_traffic\", \"average_daily_bike_traffic\", \"percent_over_limit\", \"neighborhood\"]]\n",
    "traffic_data.head()"
   ]
  },
  {
   "cell_type": "code",
   "execution_count": 6,
   "metadata": {},
   "outputs": [
    {
     "data": {
      "text/html": [
       "<div>\n",
       "<style scoped>\n",
       "    .dataframe tbody tr th:only-of-type {\n",
       "        vertical-align: middle;\n",
       "    }\n",
       "\n",
       "    .dataframe tbody tr th {\n",
       "        vertical-align: top;\n",
       "    }\n",
       "\n",
       "    .dataframe thead th {\n",
       "        text-align: right;\n",
       "    }\n",
       "</style>\n",
       "<table border=\"1\" class=\"dataframe\">\n",
       "  <thead>\n",
       "    <tr style=\"text-align: right;\">\n",
       "      <th></th>\n",
       "      <th>_id</th>\n",
       "      <th>Neighborhood</th>\n",
       "      <th>Sector #</th>\n",
       "      <th>Population (2010)</th>\n",
       "      <th>Miles of Major Roads</th>\n",
       "      <th>Total Street Miles</th>\n",
       "      <th>Street Density (st. mi/area sq. mi)</th>\n",
       "      <th># Sets of Steps</th>\n",
       "      <th># Step Treads</th>\n",
       "      <th>Res. Permit Parking Area(s)</th>\n",
       "      <th>Total Working Pop. (Age 16+) (2010)</th>\n",
       "      <th>Commute to Work: Drive Alone (2010)</th>\n",
       "      <th>Commute to Work: Carpool/Vanpool (2010)</th>\n",
       "      <th>Commute to Work: Public Transportation (2010)</th>\n",
       "      <th>Commute to Work: Taxi (2010)</th>\n",
       "      <th>Commute to Work: Motorcycle (2010)</th>\n",
       "      <th>Commute to Work: Bicycle (2010)</th>\n",
       "      <th>Commute to Work: Walk (2010)</th>\n",
       "      <th>Commute to Work: Other (2010)</th>\n",
       "      <th>Work at Home (2010)</th>\n",
       "    </tr>\n",
       "  </thead>\n",
       "  <tbody>\n",
       "    <tr>\n",
       "      <th>0</th>\n",
       "      <td>1</td>\n",
       "      <td>Allegheny Center</td>\n",
       "      <td>3</td>\n",
       "      <td>933</td>\n",
       "      <td>2.232425</td>\n",
       "      <td>4.141467</td>\n",
       "      <td>19.721273</td>\n",
       "      <td>0</td>\n",
       "      <td>0</td>\n",
       "      <td>None</td>\n",
       "      <td>386</td>\n",
       "      <td>0.277202</td>\n",
       "      <td>0.098446</td>\n",
       "      <td>0.168394</td>\n",
       "      <td>0.000000</td>\n",
       "      <td>0.000000</td>\n",
       "      <td>0.0</td>\n",
       "      <td>0.437824</td>\n",
       "      <td>0.000000</td>\n",
       "      <td>0.018135</td>\n",
       "    </tr>\n",
       "    <tr>\n",
       "      <th>1</th>\n",
       "      <td>2</td>\n",
       "      <td>Allegheny West</td>\n",
       "      <td>3</td>\n",
       "      <td>462</td>\n",
       "      <td>1.471627</td>\n",
       "      <td>4.870843</td>\n",
       "      <td>34.544983</td>\n",
       "      <td>0</td>\n",
       "      <td>0</td>\n",
       "      <td>G</td>\n",
       "      <td>151</td>\n",
       "      <td>0.231788</td>\n",
       "      <td>0.205298</td>\n",
       "      <td>0.158940</td>\n",
       "      <td>0.145695</td>\n",
       "      <td>0.000000</td>\n",
       "      <td>0.0</td>\n",
       "      <td>0.258278</td>\n",
       "      <td>0.000000</td>\n",
       "      <td>0.000000</td>\n",
       "    </tr>\n",
       "    <tr>\n",
       "      <th>2</th>\n",
       "      <td>3</td>\n",
       "      <td>Allentown</td>\n",
       "      <td>6</td>\n",
       "      <td>2500</td>\n",
       "      <td>1.648451</td>\n",
       "      <td>12.325689</td>\n",
       "      <td>41.781996</td>\n",
       "      <td>12</td>\n",
       "      <td>474</td>\n",
       "      <td>None</td>\n",
       "      <td>824</td>\n",
       "      <td>0.469660</td>\n",
       "      <td>0.109223</td>\n",
       "      <td>0.379854</td>\n",
       "      <td>0.000000</td>\n",
       "      <td>0.008495</td>\n",
       "      <td>0.0</td>\n",
       "      <td>0.000000</td>\n",
       "      <td>0.014563</td>\n",
       "      <td>0.018204</td>\n",
       "    </tr>\n",
       "    <tr>\n",
       "      <th>3</th>\n",
       "      <td>4</td>\n",
       "      <td>Arlington</td>\n",
       "      <td>7</td>\n",
       "      <td>1869</td>\n",
       "      <td>0.861571</td>\n",
       "      <td>10.734269</td>\n",
       "      <td>22.838871</td>\n",
       "      <td>13</td>\n",
       "      <td>428</td>\n",
       "      <td>None</td>\n",
       "      <td>673</td>\n",
       "      <td>0.739970</td>\n",
       "      <td>0.072808</td>\n",
       "      <td>0.135215</td>\n",
       "      <td>0.000000</td>\n",
       "      <td>0.000000</td>\n",
       "      <td>0.0</td>\n",
       "      <td>0.019316</td>\n",
       "      <td>0.008915</td>\n",
       "      <td>0.023774</td>\n",
       "    </tr>\n",
       "    <tr>\n",
       "      <th>4</th>\n",
       "      <td>5</td>\n",
       "      <td>Arlington Heights</td>\n",
       "      <td>7</td>\n",
       "      <td>244</td>\n",
       "      <td>0.000000</td>\n",
       "      <td>1.086460</td>\n",
       "      <td>8.230760</td>\n",
       "      <td>0</td>\n",
       "      <td>0</td>\n",
       "      <td>None</td>\n",
       "      <td>72</td>\n",
       "      <td>0.111111</td>\n",
       "      <td>0.000000</td>\n",
       "      <td>0.888889</td>\n",
       "      <td>0.000000</td>\n",
       "      <td>0.000000</td>\n",
       "      <td>0.0</td>\n",
       "      <td>0.000000</td>\n",
       "      <td>0.000000</td>\n",
       "      <td>0.000000</td>\n",
       "    </tr>\n",
       "  </tbody>\n",
       "</table>\n",
       "</div>"
      ],
      "text/plain": [
       "   _id       Neighborhood  Sector #  Population (2010)  Miles of Major Roads  \\\n",
       "0    1   Allegheny Center         3                933              2.232425   \n",
       "1    2     Allegheny West         3                462              1.471627   \n",
       "2    3          Allentown         6               2500              1.648451   \n",
       "3    4          Arlington         7               1869              0.861571   \n",
       "4    5  Arlington Heights         7                244              0.000000   \n",
       "\n",
       "   Total Street Miles  Street Density (st. mi/area sq. mi)  # Sets of Steps  \\\n",
       "0            4.141467                            19.721273                0   \n",
       "1            4.870843                            34.544983                0   \n",
       "2           12.325689                            41.781996               12   \n",
       "3           10.734269                            22.838871               13   \n",
       "4            1.086460                             8.230760                0   \n",
       "\n",
       "   # Step Treads Res. Permit Parking Area(s)  \\\n",
       "0              0                        None   \n",
       "1              0                           G   \n",
       "2            474                        None   \n",
       "3            428                        None   \n",
       "4              0                        None   \n",
       "\n",
       "   Total Working Pop. (Age 16+) (2010)  Commute to Work: Drive Alone (2010)  \\\n",
       "0                                  386                             0.277202   \n",
       "1                                  151                             0.231788   \n",
       "2                                  824                             0.469660   \n",
       "3                                  673                             0.739970   \n",
       "4                                   72                             0.111111   \n",
       "\n",
       "   Commute to Work: Carpool/Vanpool (2010)  \\\n",
       "0                                 0.098446   \n",
       "1                                 0.205298   \n",
       "2                                 0.109223   \n",
       "3                                 0.072808   \n",
       "4                                 0.000000   \n",
       "\n",
       "   Commute to Work: Public Transportation (2010)  \\\n",
       "0                                       0.168394   \n",
       "1                                       0.158940   \n",
       "2                                       0.379854   \n",
       "3                                       0.135215   \n",
       "4                                       0.888889   \n",
       "\n",
       "   Commute to Work: Taxi (2010)  Commute to Work: Motorcycle (2010)  \\\n",
       "0                      0.000000                            0.000000   \n",
       "1                      0.145695                            0.000000   \n",
       "2                      0.000000                            0.008495   \n",
       "3                      0.000000                            0.000000   \n",
       "4                      0.000000                            0.000000   \n",
       "\n",
       "   Commute to Work: Bicycle (2010)  Commute to Work: Walk (2010)  \\\n",
       "0                              0.0                      0.437824   \n",
       "1                              0.0                      0.258278   \n",
       "2                              0.0                      0.000000   \n",
       "3                              0.0                      0.019316   \n",
       "4                              0.0                      0.000000   \n",
       "\n",
       "   Commute to Work: Other (2010)  Work at Home (2010)  \n",
       "0                       0.000000             0.018135  \n",
       "1                       0.000000             0.000000  \n",
       "2                       0.014563             0.018204  \n",
       "3                       0.008915             0.023774  \n",
       "4                       0.000000             0.000000  "
      ]
     },
     "execution_count": 6,
     "metadata": {},
     "output_type": "execute_result"
    }
   ],
   "source": [
    "census_data.head()"
   ]
  },
  {
   "cell_type": "code",
   "execution_count": 7,
   "metadata": {},
   "outputs": [
    {
     "data": {
      "text/html": [
       "<div>\n",
       "<style scoped>\n",
       "    .dataframe tbody tr th:only-of-type {\n",
       "        vertical-align: middle;\n",
       "    }\n",
       "\n",
       "    .dataframe tbody tr th {\n",
       "        vertical-align: top;\n",
       "    }\n",
       "\n",
       "    .dataframe thead th {\n",
       "        text-align: right;\n",
       "    }\n",
       "</style>\n",
       "<table border=\"1\" class=\"dataframe\">\n",
       "  <thead>\n",
       "    <tr style=\"text-align: right;\">\n",
       "      <th></th>\n",
       "      <th>Neighborhood</th>\n",
       "      <th>Total Street Miles</th>\n",
       "    </tr>\n",
       "  </thead>\n",
       "  <tbody>\n",
       "    <tr>\n",
       "      <th>0</th>\n",
       "      <td>Allegheny Center</td>\n",
       "      <td>4.141467</td>\n",
       "    </tr>\n",
       "    <tr>\n",
       "      <th>1</th>\n",
       "      <td>Allegheny West</td>\n",
       "      <td>4.870843</td>\n",
       "    </tr>\n",
       "    <tr>\n",
       "      <th>2</th>\n",
       "      <td>Allentown</td>\n",
       "      <td>12.325689</td>\n",
       "    </tr>\n",
       "    <tr>\n",
       "      <th>3</th>\n",
       "      <td>Arlington</td>\n",
       "      <td>10.734269</td>\n",
       "    </tr>\n",
       "    <tr>\n",
       "      <th>4</th>\n",
       "      <td>Arlington Heights</td>\n",
       "      <td>1.086460</td>\n",
       "    </tr>\n",
       "  </tbody>\n",
       "</table>\n",
       "</div>"
      ],
      "text/plain": [
       "        Neighborhood  Total Street Miles\n",
       "0   Allegheny Center            4.141467\n",
       "1     Allegheny West            4.870843\n",
       "2          Allentown           12.325689\n",
       "3          Arlington           10.734269\n",
       "4  Arlington Heights            1.086460"
      ]
     },
     "execution_count": 7,
     "metadata": {},
     "output_type": "execute_result"
    }
   ],
   "source": [
    "census_data = census_data[[\"Neighborhood\", \"Total Street Miles\"]]\n",
    "census_data.head()"
   ]
  },
  {
   "cell_type": "markdown",
   "metadata": {},
   "source": [
    "The neighborhood names weren't available for the parking meters dataset, so I used the provided snippets found at https://github.com/pitt-sci-cmpinf0010/Final-Project-Snippets to convert the latitudinal and longitudinal values to neighborhood names. I also removed the inactive parking meters from the dataset, as they likely won't affect walkability since they aren't being used."
   ]
  },
  {
   "cell_type": "code",
   "execution_count": 8,
   "metadata": {},
   "outputs": [
    {
     "data": {
      "text/html": [
       "<div>\n",
       "<style scoped>\n",
       "    .dataframe tbody tr th:only-of-type {\n",
       "        vertical-align: middle;\n",
       "    }\n",
       "\n",
       "    .dataframe tbody tr th {\n",
       "        vertical-align: top;\n",
       "    }\n",
       "\n",
       "    .dataframe thead th {\n",
       "        text-align: right;\n",
       "    }\n",
       "</style>\n",
       "<table border=\"1\" class=\"dataframe\">\n",
       "  <thead>\n",
       "    <tr style=\"text-align: right;\">\n",
       "      <th></th>\n",
       "      <th>_id</th>\n",
       "      <th>id</th>\n",
       "      <th>location</th>\n",
       "      <th>location_type</th>\n",
       "      <th>latitude</th>\n",
       "      <th>longitude</th>\n",
       "      <th>status</th>\n",
       "      <th>zone</th>\n",
       "      <th>all_groups</th>\n",
       "      <th>guid</th>\n",
       "      <th>in_service_utc</th>\n",
       "      <th>hood</th>\n",
       "    </tr>\n",
       "  </thead>\n",
       "  <tbody>\n",
       "    <tr>\n",
       "      <th>2</th>\n",
       "      <td>3</td>\n",
       "      <td>421009-CEDAR-0302</td>\n",
       "      <td>CEDAR AVE</td>\n",
       "      <td>On street</td>\n",
       "      <td>40.451356</td>\n",
       "      <td>-80.001150</td>\n",
       "      <td>Active</td>\n",
       "      <td>421 - NorthSide</td>\n",
       "      <td>NORTHSIDE|Marathon Sun 1:30a-6p 2023 P7|CWT Me...</td>\n",
       "      <td>5BAC585B-FE5C-4090-ABF8-005D6C670EF1</td>\n",
       "      <td>2013-08-08T11:34:15</td>\n",
       "      <td>Allegheny Center</td>\n",
       "    </tr>\n",
       "    <tr>\n",
       "      <th>3</th>\n",
       "      <td>4</td>\n",
       "      <td>PBP 412083</td>\n",
       "      <td>FORBES MURRAY LOT</td>\n",
       "      <td>NaN</td>\n",
       "      <td>NaN</td>\n",
       "      <td>NaN</td>\n",
       "      <td>Active</td>\n",
       "      <td>413 - Squirrel Hill</td>\n",
       "      <td>SQ.HILL1</td>\n",
       "      <td>137B2B44-7B23-46D7-A860-009598F38C4C</td>\n",
       "      <td>2021-06-21T18:16:49</td>\n",
       "      <td>None</td>\n",
       "    </tr>\n",
       "    <tr>\n",
       "      <th>4</th>\n",
       "      <td>5</td>\n",
       "      <td>409242-NDTHRG0106</td>\n",
       "      <td>N DITHRIDGE ST</td>\n",
       "      <td>On street</td>\n",
       "      <td>40.448784</td>\n",
       "      <td>-79.951793</td>\n",
       "      <td>Active</td>\n",
       "      <td>409 - Oakland 3</td>\n",
       "      <td>409 - Oakland 3|CWT Meters &amp; ParkMobile|OAKLAND3</td>\n",
       "      <td>F4BDCD95-6853-413F-A1C6-009AF3F9D725</td>\n",
       "      <td>2012-09-04T16:08:27</td>\n",
       "      <td>North Oakland</td>\n",
       "    </tr>\n",
       "    <tr>\n",
       "      <th>6</th>\n",
       "      <td>7</td>\n",
       "      <td>PBP412</td>\n",
       "      <td>Virtual Terminal for ParkMobile</td>\n",
       "      <td>Virtual Zone</td>\n",
       "      <td>NaN</td>\n",
       "      <td>NaN</td>\n",
       "      <td>Active</td>\n",
       "      <td>412 - East Liberty</td>\n",
       "      <td>EASTLIB|CWT Meters &amp; ParkMobile</td>\n",
       "      <td>8FAADCCE-A7BD-4988-85FC-00DCAB30782C</td>\n",
       "      <td>2015-10-23T16:56:58</td>\n",
       "      <td>None</td>\n",
       "    </tr>\n",
       "    <tr>\n",
       "      <th>7</th>\n",
       "      <td>8</td>\n",
       "      <td>426002-CENTRE1802</td>\n",
       "      <td>CENTRE AVE</td>\n",
       "      <td>On street</td>\n",
       "      <td>40.442621</td>\n",
       "      <td>-79.982096</td>\n",
       "      <td>Active</td>\n",
       "      <td>426 - Hill District</td>\n",
       "      <td>Hill District|426 - Hill District|CWT Meters &amp;...</td>\n",
       "      <td>DFCD9083-EE1C-477D-8F82-00F688A1F78C</td>\n",
       "      <td>2017-07-17T11:24:27</td>\n",
       "      <td>Crawford-Roberts</td>\n",
       "    </tr>\n",
       "  </tbody>\n",
       "</table>\n",
       "</div>"
      ],
      "text/plain": [
       "   _id                 id                         location location_type  \\\n",
       "2    3  421009-CEDAR-0302                        CEDAR AVE     On street   \n",
       "3    4         PBP 412083                FORBES MURRAY LOT           NaN   \n",
       "4    5  409242-NDTHRG0106                   N DITHRIDGE ST     On street   \n",
       "6    7             PBP412  Virtual Terminal for ParkMobile  Virtual Zone   \n",
       "7    8  426002-CENTRE1802                       CENTRE AVE     On street   \n",
       "\n",
       "    latitude  longitude  status                 zone  \\\n",
       "2  40.451356 -80.001150  Active      421 - NorthSide   \n",
       "3        NaN        NaN  Active  413 - Squirrel Hill   \n",
       "4  40.448784 -79.951793  Active      409 - Oakland 3   \n",
       "6        NaN        NaN  Active   412 - East Liberty   \n",
       "7  40.442621 -79.982096  Active  426 - Hill District   \n",
       "\n",
       "                                          all_groups  \\\n",
       "2  NORTHSIDE|Marathon Sun 1:30a-6p 2023 P7|CWT Me...   \n",
       "3                                           SQ.HILL1   \n",
       "4   409 - Oakland 3|CWT Meters & ParkMobile|OAKLAND3   \n",
       "6                    EASTLIB|CWT Meters & ParkMobile   \n",
       "7  Hill District|426 - Hill District|CWT Meters &...   \n",
       "\n",
       "                                   guid       in_service_utc              hood  \n",
       "2  5BAC585B-FE5C-4090-ABF8-005D6C670EF1  2013-08-08T11:34:15  Allegheny Center  \n",
       "3  137B2B44-7B23-46D7-A860-009598F38C4C  2021-06-21T18:16:49              None  \n",
       "4  F4BDCD95-6853-413F-A1C6-009AF3F9D725  2012-09-04T16:08:27     North Oakland  \n",
       "6  8FAADCCE-A7BD-4988-85FC-00DCAB30782C  2015-10-23T16:56:58              None  \n",
       "7  DFCD9083-EE1C-477D-8F82-00F688A1F78C  2017-07-17T11:24:27  Crawford-Roberts  "
      ]
     },
     "execution_count": 8,
     "metadata": {},
     "output_type": "execute_result"
    }
   ],
   "source": [
    "# https://pandas.pydata.org/docs/reference/api/pandas.DataFrame.apply.html\n",
    "parking_meter_data[\"hood\"] = parking_meter_data.apply(lambda row : fpsnippets.geo_to_neighborhood(row[\"latitude\"], row[\"longitude\"]), axis=1)\n",
    "parking_meter_data = parking_meter_data[parking_meter_data.status == \"Active\"]\n",
    "parking_meter_data.head()"
   ]
  },
  {
   "cell_type": "markdown",
   "metadata": {},
   "source": [
    "For the parking meter data, multiple meters were in the same neighborhood. I wanted the count of parking meters in each neighborhood, so I used pandas.Dataframe.groupby.size to make a dataframe, with the column parking_meter_count containing the number of rows from each unique neighborhood."
   ]
  },
  {
   "cell_type": "code",
   "execution_count": 9,
   "metadata": {},
   "outputs": [
    {
     "data": {
      "text/html": [
       "<div>\n",
       "<style scoped>\n",
       "    .dataframe tbody tr th:only-of-type {\n",
       "        vertical-align: middle;\n",
       "    }\n",
       "\n",
       "    .dataframe tbody tr th {\n",
       "        vertical-align: top;\n",
       "    }\n",
       "\n",
       "    .dataframe thead th {\n",
       "        text-align: right;\n",
       "    }\n",
       "</style>\n",
       "<table border=\"1\" class=\"dataframe\">\n",
       "  <thead>\n",
       "    <tr style=\"text-align: right;\">\n",
       "      <th></th>\n",
       "      <th>hood</th>\n",
       "      <th>parking_meter_count</th>\n",
       "    </tr>\n",
       "  </thead>\n",
       "  <tbody>\n",
       "    <tr>\n",
       "      <th>0</th>\n",
       "      <td>Allegheny Center</td>\n",
       "      <td>48</td>\n",
       "    </tr>\n",
       "    <tr>\n",
       "      <th>1</th>\n",
       "      <td>Allegheny West</td>\n",
       "      <td>27</td>\n",
       "    </tr>\n",
       "    <tr>\n",
       "      <th>2</th>\n",
       "      <td>Allentown</td>\n",
       "      <td>6</td>\n",
       "    </tr>\n",
       "    <tr>\n",
       "      <th>3</th>\n",
       "      <td>Beechview</td>\n",
       "      <td>12</td>\n",
       "    </tr>\n",
       "    <tr>\n",
       "      <th>4</th>\n",
       "      <td>Bloomfield</td>\n",
       "      <td>95</td>\n",
       "    </tr>\n",
       "  </tbody>\n",
       "</table>\n",
       "</div>"
      ],
      "text/plain": [
       "               hood  parking_meter_count\n",
       "0  Allegheny Center                   48\n",
       "1    Allegheny West                   27\n",
       "2         Allentown                    6\n",
       "3         Beechview                   12\n",
       "4        Bloomfield                   95"
      ]
     },
     "execution_count": 9,
     "metadata": {},
     "output_type": "execute_result"
    }
   ],
   "source": [
    "# https://pandas.pydata.org/docs/reference/api/pandas.core.groupby.DataFrameGroupBy.size.html\n",
    "parking_meter_data = parking_meter_data.groupby(\"hood\").size().reset_index(name=\"parking_meter_count\")\n",
    "parking_meter_data.head()"
   ]
  },
  {
   "cell_type": "markdown",
   "metadata": {},
   "source": [
    "I then merged each of the datasets with the geography dataset in order to be able to match each neighborhood to a geography and graph it later on."
   ]
  },
  {
   "cell_type": "code",
   "execution_count": 10,
   "metadata": {},
   "outputs": [],
   "source": [
    "# https://pandas.pydata.org/docs/reference/api/pandas.DataFrame.merge.html\n",
    "traffic_data = geography.merge(traffic_data, left_on=\"hood\", right_on=\"neighborhood\", suffixes=(\"\", \"traffic_data\"))\n",
    "parking_meter_data = geography.merge(parking_meter_data, left_on=\"hood\", right_on=\"hood\", suffixes=(\"\", \"census_data\"))"
   ]
  },
  {
   "cell_type": "markdown",
   "metadata": {},
   "source": [
    "Next, I merged the census data together with the other datasets one by one. This is so that we can later use the total street miles in each neighborhood, as a way for the metrics to be normalized. "
   ]
  },
  {
   "cell_type": "code",
   "execution_count": 11,
   "metadata": {},
   "outputs": [],
   "source": [
    "traffic_data = traffic_data.merge(census_data, left_on=\"hood\", right_on=\"Neighborhood\", suffixes=(\"\", \"census_data\"))\n",
    "parking_meter_data = parking_meter_data.merge(census_data, left_on=\"hood\", right_on=\"Neighborhood\", suffixes=(\"\", \"census_data\"))"
   ]
  },
  {
   "cell_type": "markdown",
   "metadata": {},
   "source": [
    "Now I can normalize the car traffic, bike traffic, and parking meter count by dividing it by the total street miles. I divided them so that the data isn't skewed by the neighborhood's size. Bigger neighborhoods will likely have more parking meters because they *need* more parking meters so they aren't spread out too much. "
   ]
  },
  {
   "cell_type": "code",
   "execution_count": 12,
   "metadata": {},
   "outputs": [],
   "source": [
    "traffic_data[\"car_traffic_per_street_mile\"] = traffic_data.average_daily_car_traffic / traffic_data[\"Total Street Miles\"]\n",
    "traffic_data[\"bike_traffic_per_street_mile\"] = traffic_data.average_daily_bike_traffic / traffic_data[\"Total Street Miles\"]\n",
    "parking_meter_data[\"parking_meter_count_per_street_mile\"] = parking_meter_data[\"parking_meter_count\"] / parking_meter_data[\"Total Street Miles\"]"
   ]
  },
  {
   "cell_type": "markdown",
   "metadata": {},
   "source": [
    "We can take the natural log of the data so that it becomes easy to gompare when we graph it"
   ]
  },
  {
   "cell_type": "code",
   "execution_count": 13,
   "metadata": {},
   "outputs": [],
   "source": [
    "traffic_data[\"log_car_traffic_per_street_mile\"] = np.log(traffic_data[\"car_traffic_per_street_mile\"])"
   ]
  },
  {
   "cell_type": "code",
   "execution_count": 14,
   "metadata": {},
   "outputs": [],
   "source": [
    "traffic_data[\"log_bike_traffic_per_street_mile\"] = np.log(traffic_data[\"bike_traffic_per_street_mile\"])"
   ]
  },
  {
   "cell_type": "code",
   "execution_count": 15,
   "metadata": {},
   "outputs": [],
   "source": [
    "parking_meter_data[\"log_parking_meter_count_per_street_mile\"] = np.log(parking_meter_data[\"parking_meter_count_per_street_mile\"])"
   ]
  },
  {
   "cell_type": "markdown",
   "metadata": {},
   "source": [
    "We can organize the data by sorting it and displaying:"
   ]
  },
  {
   "cell_type": "code",
   "execution_count": 16,
   "metadata": {},
   "outputs": [],
   "source": [
    "car_data = traffic_data.sort_values(by=\"car_traffic_per_street_mile\", ascending=False)[[\"hood\", \"car_traffic_per_street_mile\", \"log_car_traffic_per_street_mile\", \"log_bike_traffic_per_street_mile\"]]"
   ]
  },
  {
   "cell_type": "code",
   "execution_count": 19,
   "metadata": {
    "scrolled": true
   },
   "outputs": [
    {
     "data": {
      "text/html": [
       "<div>\n",
       "<style scoped>\n",
       "    .dataframe tbody tr th:only-of-type {\n",
       "        vertical-align: middle;\n",
       "    }\n",
       "\n",
       "    .dataframe tbody tr th {\n",
       "        vertical-align: top;\n",
       "    }\n",
       "\n",
       "    .dataframe thead th {\n",
       "        text-align: right;\n",
       "    }\n",
       "</style>\n",
       "<table border=\"1\" class=\"dataframe\">\n",
       "  <thead>\n",
       "    <tr style=\"text-align: right;\">\n",
       "      <th></th>\n",
       "      <th>hood</th>\n",
       "      <th>car_traffic_per_street_mile</th>\n",
       "      <th>log_car_traffic_per_street_mile</th>\n",
       "      <th>log_bike_traffic_per_street_mile</th>\n",
       "    </tr>\n",
       "  </thead>\n",
       "  <tbody>\n",
       "    <tr>\n",
       "      <th>407</th>\n",
       "      <td>Regent Square</td>\n",
       "      <td>3712.992665</td>\n",
       "      <td>8.219593</td>\n",
       "      <td>NaN</td>\n",
       "    </tr>\n",
       "    <tr>\n",
       "      <th>1</th>\n",
       "      <td>Point Breeze North</td>\n",
       "      <td>1079.907502</td>\n",
       "      <td>6.984631</td>\n",
       "      <td>NaN</td>\n",
       "    </tr>\n",
       "    <tr>\n",
       "      <th>187</th>\n",
       "      <td>Friendship</td>\n",
       "      <td>1010.150722</td>\n",
       "      <td>6.917855</td>\n",
       "      <td>NaN</td>\n",
       "    </tr>\n",
       "    <tr>\n",
       "      <th>391</th>\n",
       "      <td>Strip District</td>\n",
       "      <td>963.703871</td>\n",
       "      <td>6.870784</td>\n",
       "      <td>NaN</td>\n",
       "    </tr>\n",
       "    <tr>\n",
       "      <th>268</th>\n",
       "      <td>East Hills</td>\n",
       "      <td>942.785884</td>\n",
       "      <td>6.848839</td>\n",
       "      <td>NaN</td>\n",
       "    </tr>\n",
       "    <tr>\n",
       "      <th>315</th>\n",
       "      <td>California-Kirkbride</td>\n",
       "      <td>915.988125</td>\n",
       "      <td>6.820003</td>\n",
       "      <td>NaN</td>\n",
       "    </tr>\n",
       "    <tr>\n",
       "      <th>138</th>\n",
       "      <td>Manchester</td>\n",
       "      <td>844.554306</td>\n",
       "      <td>6.738809</td>\n",
       "      <td>NaN</td>\n",
       "    </tr>\n",
       "    <tr>\n",
       "      <th>313</th>\n",
       "      <td>California-Kirkbride</td>\n",
       "      <td>824.436342</td>\n",
       "      <td>6.714700</td>\n",
       "      <td>NaN</td>\n",
       "    </tr>\n",
       "    <tr>\n",
       "      <th>133</th>\n",
       "      <td>North Shore</td>\n",
       "      <td>760.899255</td>\n",
       "      <td>6.634501</td>\n",
       "      <td>NaN</td>\n",
       "    </tr>\n",
       "    <tr>\n",
       "      <th>200</th>\n",
       "      <td>Central Oakland</td>\n",
       "      <td>752.418961</td>\n",
       "      <td>6.623293</td>\n",
       "      <td>NaN</td>\n",
       "    </tr>\n",
       "  </tbody>\n",
       "</table>\n",
       "</div>"
      ],
      "text/plain": [
       "                     hood  car_traffic_per_street_mile  \\\n",
       "407         Regent Square                  3712.992665   \n",
       "1      Point Breeze North                  1079.907502   \n",
       "187            Friendship                  1010.150722   \n",
       "391        Strip District                   963.703871   \n",
       "268            East Hills                   942.785884   \n",
       "315  California-Kirkbride                   915.988125   \n",
       "138            Manchester                   844.554306   \n",
       "313  California-Kirkbride                   824.436342   \n",
       "133           North Shore                   760.899255   \n",
       "200       Central Oakland                   752.418961   \n",
       "\n",
       "     log_car_traffic_per_street_mile  log_bike_traffic_per_street_mile  \n",
       "407                         8.219593                               NaN  \n",
       "1                           6.984631                               NaN  \n",
       "187                         6.917855                               NaN  \n",
       "391                         6.870784                               NaN  \n",
       "268                         6.848839                               NaN  \n",
       "315                         6.820003                               NaN  \n",
       "138                         6.738809                               NaN  \n",
       "313                         6.714700                               NaN  \n",
       "133                         6.634501                               NaN  \n",
       "200                         6.623293                               NaN  "
      ]
     },
     "execution_count": 19,
     "metadata": {},
     "output_type": "execute_result"
    }
   ],
   "source": [
    "car_data.head(10)"
   ]
  },
  {
   "cell_type": "code",
   "execution_count": 20,
   "metadata": {},
   "outputs": [],
   "source": [
    "bike_data = traffic_data.sort_values(by=\"bike_traffic_per_street_mile\", ascending=False)[[\"hood\", \"bike_traffic_per_street_mile\", \"log_bike_traffic_per_street_mile\"]]"
   ]
  },
  {
   "cell_type": "code",
   "execution_count": 21,
   "metadata": {},
   "outputs": [
    {
     "data": {
      "text/html": [
       "<div>\n",
       "<style scoped>\n",
       "    .dataframe tbody tr th:only-of-type {\n",
       "        vertical-align: middle;\n",
       "    }\n",
       "\n",
       "    .dataframe tbody tr th {\n",
       "        vertical-align: top;\n",
       "    }\n",
       "\n",
       "    .dataframe thead th {\n",
       "        text-align: right;\n",
       "    }\n",
       "</style>\n",
       "<table border=\"1\" class=\"dataframe\">\n",
       "  <thead>\n",
       "    <tr style=\"text-align: right;\">\n",
       "      <th></th>\n",
       "      <th>hood</th>\n",
       "      <th>bike_traffic_per_street_mile</th>\n",
       "      <th>log_bike_traffic_per_street_mile</th>\n",
       "    </tr>\n",
       "  </thead>\n",
       "  <tbody>\n",
       "    <tr>\n",
       "      <th>301</th>\n",
       "      <td>South Oakland</td>\n",
       "      <td>107.361492</td>\n",
       "      <td>4.676202</td>\n",
       "    </tr>\n",
       "    <tr>\n",
       "      <th>304</th>\n",
       "      <td>South Oakland</td>\n",
       "      <td>66.508961</td>\n",
       "      <td>4.197337</td>\n",
       "    </tr>\n",
       "    <tr>\n",
       "      <th>414</th>\n",
       "      <td>South Side Flats</td>\n",
       "      <td>36.777879</td>\n",
       "      <td>3.604897</td>\n",
       "    </tr>\n",
       "    <tr>\n",
       "      <th>415</th>\n",
       "      <td>South Side Flats</td>\n",
       "      <td>34.387702</td>\n",
       "      <td>3.537699</td>\n",
       "    </tr>\n",
       "    <tr>\n",
       "      <th>196</th>\n",
       "      <td>Central Oakland</td>\n",
       "      <td>20.842047</td>\n",
       "      <td>3.036972</td>\n",
       "    </tr>\n",
       "    <tr>\n",
       "      <th>36</th>\n",
       "      <td>North Oakland</td>\n",
       "      <td>6.799734</td>\n",
       "      <td>1.916884</td>\n",
       "    </tr>\n",
       "    <tr>\n",
       "      <th>32</th>\n",
       "      <td>North Oakland</td>\n",
       "      <td>5.866438</td>\n",
       "      <td>1.769248</td>\n",
       "    </tr>\n",
       "    <tr>\n",
       "      <th>0</th>\n",
       "      <td>Point Breeze North</td>\n",
       "      <td>NaN</td>\n",
       "      <td>NaN</td>\n",
       "    </tr>\n",
       "    <tr>\n",
       "      <th>1</th>\n",
       "      <td>Point Breeze North</td>\n",
       "      <td>NaN</td>\n",
       "      <td>NaN</td>\n",
       "    </tr>\n",
       "    <tr>\n",
       "      <th>2</th>\n",
       "      <td>Squirrel Hill North</td>\n",
       "      <td>NaN</td>\n",
       "      <td>NaN</td>\n",
       "    </tr>\n",
       "  </tbody>\n",
       "</table>\n",
       "</div>"
      ],
      "text/plain": [
       "                    hood  bike_traffic_per_street_mile  \\\n",
       "301        South Oakland                    107.361492   \n",
       "304        South Oakland                     66.508961   \n",
       "414     South Side Flats                     36.777879   \n",
       "415     South Side Flats                     34.387702   \n",
       "196      Central Oakland                     20.842047   \n",
       "36         North Oakland                      6.799734   \n",
       "32         North Oakland                      5.866438   \n",
       "0     Point Breeze North                           NaN   \n",
       "1     Point Breeze North                           NaN   \n",
       "2    Squirrel Hill North                           NaN   \n",
       "\n",
       "     log_bike_traffic_per_street_mile  \n",
       "301                          4.676202  \n",
       "304                          4.197337  \n",
       "414                          3.604897  \n",
       "415                          3.537699  \n",
       "196                          3.036972  \n",
       "36                           1.916884  \n",
       "32                           1.769248  \n",
       "0                                 NaN  \n",
       "1                                 NaN  \n",
       "2                                 NaN  "
      ]
     },
     "execution_count": 21,
     "metadata": {},
     "output_type": "execute_result"
    }
   ],
   "source": [
    "bike_data.head(10)"
   ]
  },
  {
   "cell_type": "markdown",
   "metadata": {},
   "source": [
    "Here we can see that some neighborhoods are recorded multiple times. I wasn't sure whether to sum the data, or average it among neighborhoods, as some bikes may move between two locations in the neighborhood. Therefore, if I sum the data, it would be above the number it should be. However, if I average the data, it would be below the number it should be. I decided to leave it alone (multiple rows with the same neighborhood"
   ]
  },
  {
   "cell_type": "code",
   "execution_count": 22,
   "metadata": {},
   "outputs": [],
   "source": [
    "parking_meter_data = parking_meter_data.sort_values(by=\"parking_meter_count_per_street_mile\", ascending=False)[[\"hood\", \"parking_meter_count_per_street_mile\", \"log_parking_meter_count_per_street_mile\"]]"
   ]
  },
  {
   "cell_type": "code",
   "execution_count": 23,
   "metadata": {},
   "outputs": [
    {
     "data": {
      "text/html": [
       "<div>\n",
       "<style scoped>\n",
       "    .dataframe tbody tr th:only-of-type {\n",
       "        vertical-align: middle;\n",
       "    }\n",
       "\n",
       "    .dataframe tbody tr th {\n",
       "        vertical-align: top;\n",
       "    }\n",
       "\n",
       "    .dataframe thead th {\n",
       "        text-align: right;\n",
       "    }\n",
       "</style>\n",
       "<table border=\"1\" class=\"dataframe\">\n",
       "  <thead>\n",
       "    <tr style=\"text-align: right;\">\n",
       "      <th></th>\n",
       "      <th>hood</th>\n",
       "      <th>parking_meter_count_per_street_mile</th>\n",
       "      <th>log_parking_meter_count_per_street_mile</th>\n",
       "    </tr>\n",
       "  </thead>\n",
       "  <tbody>\n",
       "    <tr>\n",
       "      <th>19</th>\n",
       "      <td>Allegheny Center</td>\n",
       "      <td>11.590095</td>\n",
       "      <td>2.450151</td>\n",
       "    </tr>\n",
       "    <tr>\n",
       "      <th>4</th>\n",
       "      <td>North Oakland</td>\n",
       "      <td>7.733031</td>\n",
       "      <td>2.045501</td>\n",
       "    </tr>\n",
       "    <tr>\n",
       "      <th>14</th>\n",
       "      <td>Allegheny West</td>\n",
       "      <td>5.543189</td>\n",
       "      <td>1.712570</td>\n",
       "    </tr>\n",
       "    <tr>\n",
       "      <th>17</th>\n",
       "      <td>Central Business District</td>\n",
       "      <td>4.668789</td>\n",
       "      <td>1.540900</td>\n",
       "    </tr>\n",
       "    <tr>\n",
       "      <th>37</th>\n",
       "      <td>South Side Flats</td>\n",
       "      <td>4.124982</td>\n",
       "      <td>1.417062</td>\n",
       "    </tr>\n",
       "    <tr>\n",
       "      <th>12</th>\n",
       "      <td>North Shore</td>\n",
       "      <td>3.822875</td>\n",
       "      <td>1.341003</td>\n",
       "    </tr>\n",
       "    <tr>\n",
       "      <th>20</th>\n",
       "      <td>Central Oakland</td>\n",
       "      <td>3.473675</td>\n",
       "      <td>1.245213</td>\n",
       "    </tr>\n",
       "    <tr>\n",
       "      <th>34</th>\n",
       "      <td>Strip District</td>\n",
       "      <td>3.402461</td>\n",
       "      <td>1.224499</td>\n",
       "    </tr>\n",
       "    <tr>\n",
       "      <th>6</th>\n",
       "      <td>East Liberty</td>\n",
       "      <td>3.359537</td>\n",
       "      <td>1.211803</td>\n",
       "    </tr>\n",
       "    <tr>\n",
       "      <th>23</th>\n",
       "      <td>Bloomfield</td>\n",
       "      <td>2.992639</td>\n",
       "      <td>1.096155</td>\n",
       "    </tr>\n",
       "  </tbody>\n",
       "</table>\n",
       "</div>"
      ],
      "text/plain": [
       "                         hood  parking_meter_count_per_street_mile  \\\n",
       "19           Allegheny Center                            11.590095   \n",
       "4               North Oakland                             7.733031   \n",
       "14             Allegheny West                             5.543189   \n",
       "17  Central Business District                             4.668789   \n",
       "37           South Side Flats                             4.124982   \n",
       "12                North Shore                             3.822875   \n",
       "20            Central Oakland                             3.473675   \n",
       "34             Strip District                             3.402461   \n",
       "6                East Liberty                             3.359537   \n",
       "23                 Bloomfield                             2.992639   \n",
       "\n",
       "    log_parking_meter_count_per_street_mile  \n",
       "19                                 2.450151  \n",
       "4                                  2.045501  \n",
       "14                                 1.712570  \n",
       "17                                 1.540900  \n",
       "37                                 1.417062  \n",
       "12                                 1.341003  \n",
       "20                                 1.245213  \n",
       "34                                 1.224499  \n",
       "6                                  1.211803  \n",
       "23                                 1.096155  "
      ]
     },
     "execution_count": 23,
     "metadata": {},
     "output_type": "execute_result"
    }
   ],
   "source": [
    "parking_meter_data.head(10)"
   ]
  },
  {
   "cell_type": "code",
   "execution_count": 24,
   "metadata": {},
   "outputs": [
    {
     "data": {
      "text/plain": [
       "<matplotlib.axes._subplots.AxesSubplot at 0x7f4f26f97280>"
      ]
     },
     "execution_count": 24,
     "metadata": {},
     "output_type": "execute_result"
    },
    {
     "data": {
      "image/png": "[encoded data removed]",
      "text/plain": [
       "<Figure size 432x288 with 1 Axes>"
      ]
     },
     "metadata": {
      "needs_background": "light"
     },
     "output_type": "display_data"
    }
   ],
   "source": [
    "pd.DataFrame(car_data.tail(10)).plot(kind='bar', x='hood', y='car_traffic_per_street_mile', title=\"Car Traffic Data\")"
   ]
  },
  {
   "cell_type": "code",
   "execution_count": 25,
   "metadata": {},
   "outputs": [
    {
     "data": {
      "text/plain": [
       "<matplotlib.axes._subplots.AxesSubplot at 0x7f4f270406a0>"
      ]
     },
     "execution_count": 25,
     "metadata": {},
     "output_type": "execute_result"
    },
    {
     "data": {
      "image/png": "[encoded data removed]",
      "text/plain": [
       "<Figure size 432x288 with 1 Axes>"
      ]
     },
     "metadata": {
      "needs_background": "light"
     },
     "output_type": "display_data"
    }
   ],
   "source": [
    "pd.DataFrame(car_data.tail(10)).plot(kind='bar', x='hood', y='log_car_traffic_per_street_mile', title=\"Car Traffic Data (Logarithm)\")"
   ]
  },
  {
   "cell_type": "code",
   "execution_count": 201,
   "metadata": {},
   "outputs": [
    {
     "data": {
      "text/plain": [
       "<matplotlib.axes._subplots.AxesSubplot at 0x7f17ca8102e0>"
      ]
     },
     "execution_count": 201,
     "metadata": {},
     "output_type": "execute_result"
    },
    {
     "data": {
      "image/png": "[encoded data removed]",
      "text/plain": [
       "<Figure size 432x288 with 1 Axes>"
      ]
     },
     "metadata": {
      "needs_background": "light"
     },
     "output_type": "display_data"
    }
   ],
   "source": [
    "pd.DataFrame(bike_data.head(10)).plot(kind='bar', x='hood', y='bike_traffic_per_street_mile', title=\"Bike Traffic Data\")"
   ]
  },
  {
   "cell_type": "code",
   "execution_count": 202,
   "metadata": {},
   "outputs": [
    {
     "data": {
      "text/plain": [
       "<matplotlib.axes._subplots.AxesSubplot at 0x7f17ca778490>"
      ]
     },
     "execution_count": 202,
     "metadata": {},
     "output_type": "execute_result"
    },
    {
     "data": {
      "image/png": "[encoded data removed]",
      "text/plain": [
       "<Figure size 432x288 with 1 Axes>"
      ]
     },
     "metadata": {
      "needs_background": "light"
     },
     "output_type": "display_data"
    }
   ],
   "source": [
    "pd.DataFrame(bike_data.head(10)).plot(kind='bar', x='hood', y='log_bike_traffic_per_street_mile', title=\"Bike Traffic Data (Logarithm)\")"
   ]
  },
  {
   "cell_type": "code",
   "execution_count": 203,
   "metadata": {},
   "outputs": [
    {
     "data": {
      "text/plain": [
       "<matplotlib.axes._subplots.AxesSubplot at 0x7f17ca760fa0>"
      ]
     },
     "execution_count": 203,
     "metadata": {},
     "output_type": "execute_result"
    },
    {
     "data": {
      "image/png": "[encoded data removed]",
      "text/plain": [
       "<Figure size 432x288 with 1 Axes>"
      ]
     },
     "metadata": {
      "needs_background": "light"
     },
     "output_type": "display_data"
    }
   ],
   "source": [
    "pd.DataFrame(parking_meter_data.head(10)).plot(kind='bar', x='hood', y='parking_meter_count_per_street_mile', title=\"Parking Meter Counts\")"
   ]
  },
  {
   "cell_type": "code",
   "execution_count": 204,
   "metadata": {},
   "outputs": [
    {
     "data": {
      "text/plain": [
       "<matplotlib.axes._subplots.AxesSubplot at 0x7f17ca77a9d0>"
      ]
     },
     "execution_count": 204,
     "metadata": {},
     "output_type": "execute_result"
    },
    {
     "data": {
      "image/png": "[encoded data removed]",
      "text/plain": [
       "<Figure size 432x288 with 1 Axes>"
      ]
     },
     "metadata": {
      "needs_background": "light"
     },
     "output_type": "display_data"
    }
   ],
   "source": [
    "pd.DataFrame(parking_meter_data.head(10)).plot(kind='bar', x='hood', y='log_parking_meter_count_per_street_mile', title=\"Parking Meter Counts (Logarithm)\")"
   ]
  },
  {
   "cell_type": "markdown",
   "metadata": {},
   "source": [
    "We can also plot the data on a map. But first we want to take the logarithm of the car traffic per street mile in order to make the graph more colorful, as the data is closer together"
   ]
  },
  {
   "cell_type": "code",
   "execution_count": 205,
   "metadata": {},
   "outputs": [
    {
     "data": {
      "text/plain": [
       "<matplotlib.axes._subplots.AxesSubplot at 0x7f17ca6c1460>"
      ]
     },
     "execution_count": 205,
     "metadata": {},
     "output_type": "execute_result"
    },
    {
     "data": {
      "image/png": "[encoded data removed]",
      "text/plain": [
       "<Figure size 432x288 with 2 Axes>"
      ]
     },
     "metadata": {
      "needs_background": "light"
     },
     "output_type": "display_data"
    }
   ],
   "source": [
    "traffic_data.plot(legend=True, column=\"log_car_traffic_per_street_mile\", edgecolor=\"black\", cmap=\"Reds\", legend_kwds={\"label\": \"Daily Car Traffic per Street Mile\", \"orientation\": \"horizontal\"})"
   ]
  },
  {
   "cell_type": "markdown",
   "metadata": {},
   "source": [
    "Note that most of the neighborhoods aren't in the daily bike traffic per street mile graph because they don't have any recorded data from the dataset for those neighborhoods."
   ]
  },
  {
   "cell_type": "code",
   "execution_count": 206,
   "metadata": {},
   "outputs": [
    {
     "data": {
      "text/plain": [
       "<matplotlib.axes._subplots.AxesSubplot at 0x7f17ca58b8b0>"
      ]
     },
     "execution_count": 206,
     "metadata": {},
     "output_type": "execute_result"
    },
    {
     "data": {
      "image/png": "[encoded data removed]",
      "text/plain": [
       "<Figure size 432x288 with 2 Axes>"
      ]
     },
     "metadata": {
      "needs_background": "light"
     },
     "output_type": "display_data"
    }
   ],
   "source": [
    "traffic_data.plot(legend=True, column=\"log_bike_traffic_per_street_mile\", edgecolor=\"black\", cmap=\"Reds\", legend_kwds={\"label\": \"Daily Bike Traffic per Street Mile\", \"orientation\": \"horizontal\"})"
   ]
  }
 ],
 "metadata": {
  "kernelspec": {
   "display_name": "Python 3",
   "language": "python",
   "name": "python3"
  },
  "language_info": {
   "codemirror_mode": {
    "name": "ipython",
    "version": 3
   },
   "file_extension": ".py",
   "mimetype": "text/x-python",
   "name": "python",
   "nbconvert_exporter": "python",
   "pygments_lexer": "ipython3",
   "version": "3.8.3"
  }
 },
 "nbformat": 4,
 "nbformat_minor": 4
}
